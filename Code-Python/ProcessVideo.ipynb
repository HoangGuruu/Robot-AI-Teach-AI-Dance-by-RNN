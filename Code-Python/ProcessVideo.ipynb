{
  "nbformat": 4,
  "nbformat_minor": 0,
  "metadata": {
    "colab": {
      "provenance": []
    },
    "kernelspec": {
      "name": "python3",
      "display_name": "Python 3"
    },
    "language_info": {
      "name": "python"
    }
  },
  "cells": [
    {
      "cell_type": "markdown",
      "source": [
        "# **Preprocess the Video**"
      ],
      "metadata": {
        "id": "Gffy-E1T1OLp"
      }
    },
    {
      "cell_type": "code",
      "execution_count": null,
      "metadata": {
        "id": "omhnp5jwv0i8"
      },
      "outputs": [],
      "source": [
        "import numpy as np\n",
        "import pandas as pd\n",
        "import cv2\n",
        "import matplotlib.pyplot as plt\n",
        "\n",
        "import skimage\n",
        "from PIL import Image\n",
        "from skimage.io import imread, imshow, imread_collection, concatenate_images\n",
        "from skimage.transform import resize\n",
        "from skimage.util import crop, pad\n",
        "from skimage.morphology import label\n",
        "from skimage.color import rgb2gray, gray2rgb\n",
        "\n",
        "import os\n",
        "\n",
        "import zipfile\n",
        "z = zipfile.ZipFile(\"Dancer_Images.zip\", \"w\")"
      ]
    },
    {
      "cell_type": "code",
      "source": [
        "cap = cv2.VideoCapture('/content/Dance_Video.avi')\n",
        "print(cap.get(cv2.CAP_PROP_FPS))"
      ],
      "metadata": {
        "colab": {
          "base_uri": "https://localhost:8080/"
        },
        "id": "udsCxT6jyuW6",
        "outputId": "0f7bb471-8439-4644-b4b8-cdfc0fea6020"
      },
      "execution_count": null,
      "outputs": [
        {
          "output_type": "stream",
          "name": "stdout",
          "text": [
            "30.0\n"
          ]
        }
      ]
    },
    {
      "cell_type": "code",
      "source": [
        "%%time\n",
        "\n",
        "\n",
        "try:\n",
        "  if not os.path.exists('data'):\n",
        "      os.makedirs('data')\n",
        "except OSError:\n",
        "  print ('Error: Creating directory of data')\n",
        "\n",
        "currentFrame = 0\n",
        "count = 0\n",
        "TRAIN_SIZE = 27000\n",
        "FRAME_SKIP = 2\n",
        "IMG_WIDTH = 96\n",
        "IMG_HEIGHT = 64\n",
        "IMG_CHANNELS = 1\n",
        "X_train = np.zeros((TRAIN_SIZE, IMG_HEIGHT, IMG_WIDTH, IMG_CHANNELS), dtype='float32')\n",
        "\n",
        "video = cv2.VideoWriter('Simple_Shadow_Dancer_Video.avi',cv2.VideoWriter_fourcc(*\"MJPG\"), 30, (IMG_WIDTH, IMG_HEIGHT), False)\n",
        "\n",
        "while(count < TRAIN_SIZE):\n",
        "  try:\n",
        "      ret, frame = cap.read()\n",
        "\n",
        "      if currentFrame % FRAME_SKIP == 0:\n",
        "          count += 1\n",
        "          if count % int(TRAIN_SIZE/10) == 0:\n",
        "              print(str((count/TRAIN_SIZE)*100)+\"% done\")\n",
        "          # preprocess frames\n",
        "          img = frame\n",
        "          img = rgb2gray(img)\n",
        "          img = resize(img, (IMG_HEIGHT, IMG_WIDTH, IMG_CHANNELS), mode='constant', preserve_range=True)\n",
        "          img[img > 0.2] = 255\n",
        "          img[img <= 0.2] = 0\n",
        "          # save frame to zip and new video sample\n",
        "          name = './data/frame' + str(count) + '.jpg'\n",
        "          cv2.imwrite(name, img)\n",
        "          video.write(gray2rgb(img.astype('uint8')))\n",
        "          z.write(name)\n",
        "          os.remove(name)\n",
        "          # save image to training set if training directly to part 2\n",
        "          img = img.astype('float32') / 255.\n",
        "          X_train[count] = img\n",
        "  except:\n",
        "      print('Frame error')\n",
        "      break\n",
        "  currentFrame += 1\n",
        "\n",
        "print(str(count)+\" Frames collected\")\n",
        "cap.release()\n",
        "z.close()\n",
        "video.release()"
      ],
      "metadata": {
        "colab": {
          "base_uri": "https://localhost:8080/"
        },
        "id": "yLnNxH-6zOce",
        "outputId": "a34cf95e-144d-48d2-a47e-8bc2077dbb6e"
      },
      "execution_count": null,
      "outputs": [
        {
          "output_type": "stream",
          "name": "stdout",
          "text": [
            "Frame error\n",
            "1464 Frames collected\n",
            "CPU times: user 2min 23s, sys: 1min 44s, total: 4min 8s\n",
            "Wall time: 2min 10s\n"
          ]
        }
      ]
    }
  ]
}